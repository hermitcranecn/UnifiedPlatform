{
 "cells": [
  {
   "cell_type": "markdown",
   "metadata": {},
   "source": [
    "this is a notebook for speech siamese. \n",
    "the goal is to add siamese network after the speech command network to make a one-shot speech command model. with this model, take two piece of audio as input, the model will tell if it is the same speech command or not. \n",
    "if the accuracy is good enough, we make take it input product for voice trigger or voice command which are useful for all kind of product. \n",
    "\n",
    "the trick may be if siamese can make one shot accure enough. "
   ]
  },
  {
   "cell_type": "code",
   "execution_count": 2,
   "metadata": {},
   "outputs": [
    {
     "name": "stdout",
     "output_type": "stream",
     "text": [
      "WARNING:tensorflow:From /usr/local/lib/python3.5/dist-packages/tensorflow/python/ops/distributions/distribution.py:265: ReparameterizationType.__init__ (from tensorflow.python.ops.distributions.distribution) is deprecated and will be removed after 2019-01-01.\n",
      "Instructions for updating:\n",
      "The TensorFlow Distributions library has moved to TensorFlow Probability (https://github.com/tensorflow/probability). You should update all references to use `tfp.distributions` instead of `tf.distributions`.\n",
      "WARNING:tensorflow:From /usr/local/lib/python3.5/dist-packages/tensorflow/python/ops/distributions/bernoulli.py:169: RegisterKL.__init__ (from tensorflow.python.ops.distributions.kullback_leibler) is deprecated and will be removed after 2019-01-01.\n",
      "Instructions for updating:\n",
      "The TensorFlow Distributions library has moved to TensorFlow Probability (https://github.com/tensorflow/probability). You should update all references to use `tfp.distributions` instead of `tf.distributions`.\n"
     ]
    }
   ],
   "source": [
    "from __future__ import absolute_import\n",
    "from __future__ import division\n",
    "from __future__ import print_function\n",
    "\n",
    "import hashlib\n",
    "import math\n",
    "import os.path\n",
    "import random\n",
    "import re\n",
    "import sys\n",
    "import tarfile\n",
    "\n",
    "import numpy as np\n",
    "import librosa as rosa\n",
    "from six.moves import urllib\n",
    "from six.moves import xrange  # pylint: disable=redefined-builtin\n",
    "import numpy as np\n",
    "import tensorflow as tf\n",
    "from tensorflow import keras\n",
    "from tensorflow.keras.models import Model, Sequential\n",
    "from tensorflow.keras.layers import Input, Dense, Conv2D, MaxPooling2D, Dropout, Flatten, Lambda\n",
    "#from tensorflow.contrib.framework.python.ops import audio_ops as contrib_audio\n",
    "#from tensorflow.python.ops import io_ops\n",
    "#from tensorflow.python.platform import gfile\n",
    "#from tensorflow.python.util import compat\n",
    "\n",
    "number_mfcc=128\n",
    "sample_rate=16000\n",
    "#for mac\n",
    "#speech_data_dir=\"/Users/hermitwang/Downloads/speech_dataset\"\n",
    "#for ubuntu\n",
    "speech_data_dir=\"/home/hermitwang/TrainingData/datasets/speech_dataset\""
   ]
  },
  {
   "cell_type": "markdown",
   "metadata": {},
   "source": [
    "# One shot keyword trigger"
   ]
  },
  {
   "cell_type": "markdown",
   "metadata": {},
   "source": [
    "\n",
    "Here is another implementation of one-shot learning of keyword trigger with librosa mfcc. \n",
    "librosa cannot put into tensorflow graph. so mfcc computation will be before conv network. \n",
    "that means load_wav_mfcc has to convert all wav file to mfcc vector. \n",
    "Here i have to understand\n",
    "    1, what is the good mfcc vector dimension. 20, 127 may not be the right input for conv network. \n",
    "    2, even the mfcc output of librosa is not the same as tensorflow contrib.decode wav, it is enough if it has all audio feature. put librosa mfcc output as input of conv net, it will do good learning about feature abstraction. \n",
    "    3, conv net may not be that difficult. just like conv2d -> maxpooling -> conv2d->flatten->dense with softmax. \n",
    "    4, build the train network with librosa and conv net.\n",
    "    5, take the dense vector output as feature extractor. \n",
    "    6, build siamese network with the feature extractor. \n",
    "    7, may add couples of dense layer to learn the feature mapping and comparation of siamese. \n",
    "    8, if that works, we get an one-shot learning for key word trigger...\n",
    "    9, in reality, we still have to work out how to split the audio stream into audio clip as the input the librosa mfcc.\n",
    "    "
   ]
  },
  {
   "cell_type": "markdown",
   "metadata": {},
   "source": [
    "### MFCC "
   ]
  },
  {
   "cell_type": "markdown",
   "metadata": {},
   "source": [
    "extract MFCC from wav file\n",
    "what is the wav parameter for MFCC output\n",
    "\n",
    "tensorflow speech command parameter \n",
    "{'desired_samples': 16000, 'window_size_samples': 480, 'window_stride_samples': 160, 'spectrogram_length': 98, 'fingerprint_width': 40, 'fingerprint_size': 3920, 'label_count': 12, 'sample_rate': 16000, 'preprocess': 'mfcc', 'average_window_width': -1}\n",
    "\n",
    "Mel-frequency cepstral coefficients (MFCCs)\n",
    "Parameters:\t\n",
    "y:np.ndarray [shape=(n,)] or None\n",
    "audio time series\n",
    "sr:number > 0 [scalar]\n",
    "sampling rate of y\n",
    "S:np.ndarray [shape=(d, t)] or None\n",
    "log-power Mel spectrogram\n",
    "n_mfcc: int > 0 [scalar]\n",
    "number of MFCCs to return\n",
    "Returns:\t\n",
    "M:np.ndarray [shape=(n_mfcc, t)]\n",
    "MFCC sequence\n",
    "\n",
    "need more study about MFCC output"
   ]
  },
  {
   "cell_type": "code",
   "execution_count": 5,
   "metadata": {},
   "outputs": [
    {
     "name": "stdout",
     "output_type": "stream",
     "text": [
      "1.0\n",
      "(128, 63)\n"
     ]
    }
   ],
   "source": [
    "def load_wav_mfcc(filename):\n",
    "    wav_loader, sample_rate = rosa.load(filename, sr=32000)\n",
    "    print(rosa.get_duration(wav_loader, sample_rate))\n",
    "    wav_mfcc = rosa.feature.mfcc(y=wav_loader, sr=32000, n_mfcc=128)\n",
    "    return wav_mfcc\n",
    "\n",
    "wav_mfcc_data = load_wav_mfcc(speech_data_dir+\"/six/fffcabd1_nohash_0.wav\")\n",
    "print(wav_mfcc_data.shape)"
   ]
  },
  {
   "cell_type": "markdown",
   "metadata": {},
   "source": [
    "# Wav MFCC loader\n",
    "Wav file loader and export mfcc sequence. \n",
    "\n",
    "0, go throught all wav file to add background voice into command wav file\n",
    "1, go through all wav file and convert to MFCC sequence\n",
    "2, construct pair of MFCC sequence and a target (0 or 1, 0 for different command, 1 for the same command)\n",
    "    the same word * 1000, random generate key index, the first index of wav, and the second index of wav. \n",
    "    the diff word * 1000, random generae two key index, the first index of wav, and the second index of wav. \n",
    "    the format will be [mfcc 1, mfcc 2, 0/1 for the same or different]\n",
    "3, prepare pair of MFCC and targets according to batch size.  "
   ]
  },
  {
   "cell_type": "code",
   "execution_count": 12,
   "metadata": {},
   "outputs": [
    {
     "name": "stdout",
     "output_type": "stream",
     "text": [
      "[0. 1. 0. 0. 0. 0. 0. 0. 0. 1. 0. 0. 0. 0. 1. 1. 0. 0. 1. 0. 0. 0. 0. 1.\n",
      " 1. 1. 0. 0. 0. 1. 0. 1. 1. 0. 0. 0. 0. 1. 0. 1. 1. 1. 0. 0. 0. 0. 0. 0.\n",
      " 0. 0. 1. 0. 1. 0. 0. 1. 1. 1. 0. 0. 1. 1. 1. 1. 0. 0. 0. 0. 1. 1. 0. 0.\n",
      " 0. 0. 0. 0. 0. 0. 0. 0. 0. 0. 0. 0. 0. 0. 0. 0. 0. 1. 0. 0. 1. 1. 1. 0.\n",
      " 1. 1. 0. 0.]\n"
     ]
    }
   ],
   "source": [
    "class WavMFCCLoader(object):\n",
    "    def __init__(self, data_dir, wanted, validation_percentage=0, testing_percentage=0):\n",
    "        self.data_dir = data_dir\n",
    "        self.wanted = wanted\n",
    "        self.wav_files = dict()\n",
    "        self.wav_file_index()\n",
    "        \n",
    "    def wav_file_index(self):\n",
    "        for dirpath, dirnames, files in os.walk(self.data_dir):\n",
    "            for name in files:\n",
    "                if name.lower().endswith('.wav'):\n",
    "                    word_name = dirpath.rsplit('/', 1)[1];\n",
    "                    if word_name in self.wanted:\n",
    "                        file_name = os.path.join(dirpath, name)\n",
    "                        #print(file_name, dirpath, word_name)\n",
    "    \n",
    "                        if word_name in self.wav_files.keys():\n",
    "                            self.wav_files[word_name].append(file_name)\n",
    "                        else:\n",
    "                            self.wav_files[word_name] = [file_name]\n",
    "                    \n",
    "        return self.wav_files\n",
    "\n",
    "\n",
    "    def wavs_to_mfcc_pair(self):\n",
    "        how_many_words = len(self.wanted)\n",
    "        a_index = random.randint(0, how_many_words - 1)\n",
    "        b_index = random.randint(0, how_many_words - 1)\n",
    "        a_wav_index = b_wav_index = -1\n",
    "        mfcc_pair = np.array([3, 1])\n",
    "        if (a_index != b_index):\n",
    "            a_wav_index = random.randint(0, len(self.wav_files[self.wanted[a_index]]) - 1)\n",
    "            b_wav_index = random.randint(0, len(self.wav_files[self.wanted[b_index]]) - 1)\n",
    "            mfcc_1 = load_wav_mfcc(self.wav_files[self.wanted[a_index]][a_wav_index])\n",
    "            mfcc_2 = load_wav_mfcc(self.wav_files[self.wanted[b_index]][b_wav_index])\n",
    "            mfcc_pair = 0\n",
    "            \n",
    "        else:\n",
    "            a_wav_index = random.randint(0, len(self.wav_files[self.wanted[a_index]]) - 1)\n",
    "            b_wav_index = random.randint(0, len(self.wav_files[self.wanted[a_index]]) - 1)\n",
    "            mfcc_1 = load_wav_mfcc(self.wav_files[self.wanted[a_index]][a_wav_index])\n",
    "            mfcc_2 = load_wav_mfcc(self.wav_files[self.wanted[a_index]][b_wav_index])\n",
    "            mfcc_pair = 1\n",
    "            \n",
    "        #print(\"aaa\", mfcc_1.shape, mfcc_2.shape)    \n",
    "        return mfcc_1, mfcc_2, mfcc_pair\n",
    "        \n",
    "    def get_mfcc_pairs(self, how_many):\n",
    "        mfcc1_data = np.zeros((how_many, 128, 32))\n",
    "        mfcc2_data = np.zeros((how_many, 128, 32))\n",
    "        same_data = np.zeros(how_many)\n",
    "        for i in range(0, how_many - 1):\n",
    "            \n",
    "            mfcc1_data_, mfcc2_data_, same_data[i] = self.wavs_to_mfcc_pair()\n",
    "            mfcc1_data[i, :, 0:mfcc1_data_.shape[1]] = mfcc1_data_\n",
    "            mfcc2_data[i, :, 0:mfcc2_data_.shape[1]] = mfcc2_data_\n",
    "            #np.append(mfcc1_data, mfcc1_)\n",
    "            #np.append(mfcc2_data, mfcc2_)\n",
    "            #np.append(same_data, same_)          \n",
    "        #print(mfcc_pairs)\n",
    "        return mfcc1_data, mfcc2_data, same_data\n",
    "        \n",
    "loader = WavMFCCLoader(speech_data_dir, wanted=[\"one\", \"two\", \"bed\"])\n",
    "#wav_list = loader.wav_file_index()\n",
    "mfcc1_data, mfcc2_data, same_pair = loader.get_mfcc_pairs(100)\n",
    "print(same_pair)"
   ]
  },
  {
   "cell_type": "markdown",
   "metadata": {},
   "source": [
    "# Conv Network"
   ]
  },
  {
   "cell_type": "markdown",
   "metadata": {},
   "source": [
    "create a keras conv network, take mfcc vector as input.\n",
    "\n",
    "the speech command mfcc input shape is (?, 98, 40, 1)\n",
    "the first filter shape is (20, 8, 1, 64)\n",
    "\n"
   ]
  },
  {
   "cell_type": "code",
   "execution_count": 33,
   "metadata": {},
   "outputs": [],
   "source": [
    "def create_keras_model(fingerprint_shape, is_training=True):\n",
    "    model = Sequential()\n",
    "    model.add(Conv2D(input_shape=fingerprint_shape, filters=64, kernel_size=3, activation=\"relu\"))\n",
    "    model.add(MaxPooling2D())\n",
    "    #if (is_training):\n",
    "    #    model.add(Dropout(0.5))\n",
    "    model.add(Conv2D(filters=64, kernel_size=3, activation=\"relu\"))\n",
    "    model.add(MaxPooling2D())\n",
    "    #if (is_training):\n",
    "    #    model.add(Dropout(0.5))\n",
    "        \n",
    "    model.add(Flatten())\n",
    "    model.add(Dense(1024))\n",
    "    if (is_training):\n",
    "        model.add(Dropout(0.5))\n",
    "    #model.add(Dense(labels_count, activation=\"softmax\"))\n",
    "    \n",
    "    return model\n",
    "\n",
    "def model_train(labels_count=10, epochs=10, batch_size=32):\n",
    "    x_train = np.random.random((1000, 98, 40, 1))\n",
    "    y_train = keras.utils.to_categorical(np.random.randint(labels_count, size=(1000, 1)), num_classes=labels_count)\n",
    "    x_test = np.random.random((100, 98, 40, 1))\n",
    "    y_test = keras.utils.to_categorical(np.random.randint(labels_count, size=(100, 1)), num_classes=labels_count)\n",
    "    keras_model = create_keras_model((98, 40, 1), True)\n",
    "    keras_model.add(Dense(labels_count, activation='softmax'))\n",
    "    keras_model.compile(optimizer='rmsprop', loss='categorical_crossentropy', metrics=['accuracy'])\n",
    "    \n",
    "    keras_model.fit(x_train, y_train, epochs=epochs, batch_size=batch_size)\n",
    "    score = keras_model.evaluate(x_test, y_test, batch_size)\n",
    "    return score"
   ]
  },
  {
   "cell_type": "code",
   "execution_count": 38,
   "metadata": {},
   "outputs": [],
   "source": [
    "def create_siamese_model(input_shape, siamese_model = 'concat'):\n",
    "    right_input = Input(input_shape)\n",
    "    left_input = Input(input_shape)\n",
    "    keras_model = create_keras_model(input_shape)\n",
    "    \n",
    "    right_encoder = keras_model(right_input)\n",
    "    left_encoder = keras_model(left_input)\n",
    "    if (siamese_model == 'concat'):\n",
    "        concatenated_layer = keras.layers.concatenate([right_encoder, left_encoder])\n",
    "    elif (siamese_model == 'abs'):\n",
    "        concatenated_layer = Lambda(lambda x: tf.sqrt(tf.reduce_sum(tf.square(x[0]-x[1]), 2)), output_shape=lambda x: x[0])([right_encoder, left_encoder])\n",
    "    else:\n",
    "        raise ValueError(\"unknown siamese_model\")\n",
    "        \n",
    "    output_layer = Dense(1, activation='sigmoid')(concatenated_layer)\n",
    "    siamese_model = Model([right_input, left_input], output_layer)\n",
    "    return siamese_model\n",
    "    \n",
    "def siamese_train(siamese_model='abs'):\n",
    "    siamese_model = create_siamese_model((128,32,1), siamese_model=\"concat\")\n",
    "\n",
    "    siamese_model.compile(loss='binary_crossentropy', optimizer='rmsprop', metrics=['accuracy'])\n",
    "    loader = WavMFCCLoader(speech_data_dir, wanted=[\"one\", \"two\", \"bed\"])\n",
    "    mfcc1_data, mfcc2_data, pairs = loader.get_mfcc_pairs(1000)\n",
    "    x1_train = mfcc1_data.reshape((1000, 128, 32, 1)) #np.random.random((1000, 98, 40, 1))\n",
    "    x2_train = mfcc2_data.reshape((1000, 128, 32, 1)) #np.random.random((1000, 98, 40, 1))\n",
    "    y_train = pairs  #keras.utils.to_categorical(pairs, num_classes=1)\n",
    "    \n",
    "    \n",
    "    siamese_model.fit([x1_train, x2_train], y_train, epochs=10, batch_size=32)\n",
    "    \n",
    "    mfcc1_test, mfcc2_test, pairs_test = loader.get_mfcc_pairs(100)\n",
    "    x1_test = mfcc1_test.reshape((100, 128,32, 1))\n",
    "    x2_test = mfcc2_test.reshape((100, 128,32, 1))\n",
    "    y_test = pairs_test \n",
    "    \n",
    "    loss, accuracy = siamese_model.evaluate([x1_test, x2_test], y_test)\n",
    "    print(loss)\n",
    "    return accuracy"
   ]
  },
  {
   "cell_type": "markdown",
   "metadata": {},
   "source": [
    "Siamese Network"
   ]
  },
  {
   "cell_type": "markdown",
   "metadata": {},
   "source": [
    "## main "
   ]
  },
  {
   "cell_type": "code",
   "execution_count": 39,
   "metadata": {},
   "outputs": [
    {
     "name": "stdout",
     "output_type": "stream",
     "text": [
      "Epoch 1/10\n",
      "1000/1000 [==============================] - 25s 25ms/step - loss: 9.8863 - acc: 0.3730\n",
      "Epoch 2/10\n",
      "1000/1000 [==============================] - 24s 24ms/step - loss: 10.2041 - acc: 0.3590\n",
      "Epoch 3/10\n",
      "1000/1000 [==============================] - 24s 24ms/step - loss: 10.2038 - acc: 0.3590\n",
      "Epoch 4/10\n",
      "1000/1000 [==============================] - 25s 25ms/step - loss: 10.2038 - acc: 0.3600\n",
      "Epoch 5/10\n",
      "1000/1000 [==============================] - 25s 25ms/step - loss: 10.2037 - acc: 0.3600\n",
      "Epoch 6/10\n",
      "1000/1000 [==============================] - 27s 27ms/step - loss: 10.2037 - acc: 0.3600\n",
      "Epoch 7/10\n",
      "1000/1000 [==============================] - 27s 27ms/step - loss: 10.2037 - acc: 0.3600\n",
      "Epoch 8/10\n",
      "1000/1000 [==============================] - 25s 25ms/step - loss: 10.2036 - acc: 0.3600\n",
      "Epoch 9/10\n",
      "1000/1000 [==============================] - 25s 25ms/step - loss: 10.2036 - acc: 0.3600\n",
      "Epoch 10/10\n",
      "1000/1000 [==============================] - 24s 24ms/step - loss: 10.2035 - acc: 0.3600\n",
      "100/100 [==============================] - 1s 10ms/step\n",
      "10.525508766174317\n",
      "0.34\n"
     ]
    }
   ],
   "source": [
    "#wav_mfcc = load_wav_mfcc(\"/Users/hermitwang/Downloads/speech_dataset/backward/0a2b400e_nohash_0.wav\")\n",
    "#print(wav_mfcc.shape) \n",
    "score = siamese_train()\n",
    "print(score)"
   ]
  },
  {
   "cell_type": "code",
   "execution_count": null,
   "metadata": {},
   "outputs": [],
   "source": []
  }
 ],
 "metadata": {
  "kernelspec": {
   "display_name": "Python 3",
   "language": "python",
   "name": "python3"
  },
  "language_info": {
   "codemirror_mode": {
    "name": "ipython",
    "version": 3
   },
   "file_extension": ".py",
   "mimetype": "text/x-python",
   "name": "python",
   "nbconvert_exporter": "python",
   "pygments_lexer": "ipython3",
   "version": "3.5.2"
  }
 },
 "nbformat": 4,
 "nbformat_minor": 2
}
